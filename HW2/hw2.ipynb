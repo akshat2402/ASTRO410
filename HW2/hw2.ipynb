{
 "cells": [
  {
   "cell_type": "code",
   "execution_count": 3,
   "id": "504712f0",
   "metadata": {},
   "outputs": [],
   "source": [
    "import numpy as np\n",
    "import matplotlib.pyplot as plt\n",
    "import pandas as pd\n",
    "from astropy.table import Table\n",
    "import math\n",
    "import scipy.optimize as opt"
   ]
  },
  {
   "cell_type": "code",
   "execution_count": 4,
   "id": "25dc5cc5",
   "metadata": {},
   "outputs": [],
   "source": [
    "dat = pd.read_csv(\"hw2_fitting.dat\", sep=\" \", header=None)"
   ]
  },
  {
   "cell_type": "code",
   "execution_count": 31,
   "id": "7ce86906",
   "metadata": {},
   "outputs": [],
   "source": [
    "def Gaussian(x, nu0, alpha_D):\n",
    "    #Takes in x values of nu, and two fit parameters nu0 and alpha_D\n",
    "    y = (1./alpha_D)*np.sqrt(np.log(2.)/np.pi)*np.exp((-np.log(2.)*(x - nu0)**2.)/(alpha_D**2.))\n",
    "    return y"
   ]
  },
  {
   "cell_type": "code",
   "execution_count": 29,
   "id": "feba7765",
   "metadata": {},
   "outputs": [
    {
     "data": {
      "image/png": "[encoded data removed]",
      "text/plain": [
       "<Figure size 432x288 with 1 Axes>"
      ]
     },
     "metadata": {
      "needs_background": "light"
     },
     "output_type": "display_data"
    }
   ],
   "source": [
    "plt.scatter(dat[0],dat[1],s=1)\n",
    "plt.errorbar(dat[0],dat[1],yerr=dat[2])\n",
    "\n",
    "x = np.linspace(0,100,1000)\n",
    "e = 2.718282\n",
    "y = Gaussian(x,dat[0],)\n",
    "#plt.plot(x,y)"
   ]
  },
  {
   "cell_type": "code",
   "execution_count": 32,
   "id": "3f5dab92",
   "metadata": {},
   "outputs": [],
   "source": [
    "def Lorentzian(x, nu0, alpha_L):\n",
    "    #Takes in x values of nu, and two fit parameters nu0 and alpha_L\n",
    "    y = (1./np.pi)*(alpha_L/((x - nu0)**2. + alpha_L**2.))\n",
    "    return y"
   ]
  },
  {
   "cell_type": "code",
   "execution_count": 35,
   "id": "9a3674ae",
   "metadata": {},
   "outputs": [],
   "source": [
    "L_fit = opt.curve_fit(Lorentzian, dat[0], dat[1], sigma=dat[2], method='lm')"
   ]
  },
  {
   "cell_type": "code",
   "execution_count": 36,
   "id": "8cf390d5",
   "metadata": {},
   "outputs": [
    {
     "data": {
      "text/plain": [
       "(array([46.26902763,  7.54556472]),\n",
       " array([[ 0.06544782, -0.05440166],\n",
       "        [-0.05440166,  0.10788385]]))"
      ]
     },
     "execution_count": 36,
     "metadata": {},
     "output_type": "execute_result"
    }
   ],
   "source": [
    "L_fit"
   ]
  },
  {
   "cell_type": "code",
   "execution_count": 39,
   "id": "44679c15",
   "metadata": {},
   "outputs": [],
   "source": [
    "L_nu0, L_alpha = L_fit[0]"
   ]
  },
  {
   "cell_type": "code",
   "execution_count": 40,
   "id": "2c889cee",
   "metadata": {},
   "outputs": [
    {
     "name": "stdout",
     "output_type": "stream",
     "text": [
      "Lorentzian fit using the scipy function: \n",
      " nu_0 = 46.269027631013486 +/- 0.25582770963648727$, \n",
      " alpha_L = 7.545564716130859 +/- 0.32845677675361395\n"
     ]
    }
   ],
   "source": [
    "L_nu0_err, L_alpha_err = np.sqrt(np.diag(L_fit[1])) #Lorentzian fit errors for nu0 and alpha_L\n",
    "print('Lorentzian fit using the scipy function: \\n nu_0 = %s +/- %s$, \\n alpha_L = %s +/- %s' % (L_nu0, L_nu0_err, L_alpha, L_alpha_err))"
   ]
  },
  {
   "cell_type": "code",
   "execution_count": 41,
   "id": "49a2115d",
   "metadata": {},
   "outputs": [
    {
     "name": "stdout",
     "output_type": "stream",
     "text": [
      "Gaussian fit using the scipy function: \n",
      " nu_0 = 44.95387087183405 +/- 0.0470986677989876$, \n",
      " alpha_D = 15.026772514828137 +/- 0.0342364491045089\n"
     ]
    }
   ],
   "source": [
    "G_fit = opt.curve_fit(Gaussian, dat[0], dat[1], sigma=dat[2], method='lm') #Gaussian fit\n",
    "G_nu0, G_alpha = G_fit[0] #Gaussian fit parameters for nu0 and alpha_L\n",
    "G_nu0_err, G_alpha_err = np.sqrt(np.diag(G_fit[1])) #Gaussian fit errors for nu0 and alpha_D\n",
    "print('Gaussian fit using the scipy function: \\n nu_0 = %s +/- %s$, \\n alpha_D = %s +/- %s' % (G_nu0, G_nu0_err, G_alpha, G_alpha_err))"
   ]
  },
  {
   "cell_type": "code",
   "execution_count": 44,
   "id": "1ccab210",
   "metadata": {},
   "outputs": [
    {
     "name": "stdout",
     "output_type": "stream",
     "text": [
      "[[Fit Statistics]]\n",
      "    # fitting method   = leastsq\n",
      "    # function evals   = 31\n",
      "    # data points      = 50\n",
      "    # variables        = 3\n",
      "    chi-square         = 1.82237992\n",
      "    reduced chi-square = 0.03877404\n",
      "    Akaike info crit   = -159.593986\n",
      "    Bayesian info crit = -153.857917\n",
      "[[Variables]]\n",
      "    a:  3.05000758 +/- 0.13972186 (4.58%) (init = 1)\n",
      "    b:  2.12387107 +/- 0.17819564 (8.39%) (init = 1)\n",
      "    c:  0.92712535 +/- 0.03793125 (4.09%) (init = 1)\n",
      "[[Correlations]] (unreported correlations are < 0.100)\n",
      "    C(b, c) = 0.547\n",
      "    C(a, b) = 0.493\n"
     ]
    },
    {
     "data": {
      "image/png": "[encoded data removed]",
      "text/plain": [
       "<Figure size 432x288 with 1 Axes>"
      ]
     },
     "metadata": {
      "needs_background": "light"
     },
     "output_type": "display_data"
    }
   ],
   "source": [
    "import numpy as np\n",
    "import matplotlib.pyplot as plt\n",
    "from lmfit import minimize, Parameters, Parameter, report_fit\n",
    "\n",
    "# Define the function to be optimized\n",
    "def model(params, x):\n",
    "    a = params['a'].value\n",
    "    b = params['b'].value\n",
    "    c = params['c'].value\n",
    "    return a * np.exp(-b * x) + c\n",
    "\n",
    "# Define the residual function to be minimized\n",
    "def residuals(params, x, y):\n",
    "    return y - model(params, x)\n",
    "\n",
    "# Generate some sample data to fit\n",
    "xdata = np.linspace(0, 4, 50)\n",
    "ydata = 3.0 * np.exp(-2.0 * xdata) + 1.0 + 0.2 * np.random.normal(size=len(xdata))\n",
    "\n",
    "# Set up the parameters for the optimization\n",
    "params = Parameters()\n",
    "params.add('a', value=1.0)\n",
    "params.add('b', value=1.0)\n",
    "params.add('c', value=1.0)\n",
    "\n",
    "# Run the optimization using the Levenberg-Marquardt algorithm\n",
    "result = minimize(residuals, params, args=(xdata, ydata), method='leastsq')\n",
    "\n",
    "# Print the results\n",
    "report_fit(result)\n",
    "\n",
    "# Plot the data and the fitted function\n",
    "plt.plot(xdata, ydata, 'bo')\n",
    "plt.plot(xdata, model(result.params, xdata), 'r-')\n",
    "plt.show()\n"
   ]
  },
  {
   "cell_type": "code",
   "execution_count": 43,
   "id": "56aac075",
   "metadata": {},
   "outputs": [
    {
     "name": "stdout",
     "output_type": "stream",
     "text": [
      "Collecting lmfit\n",
      "  Downloading lmfit-1.1.0-py3-none-any.whl (90 kB)\n",
      "\u001b[K     |████████████████████████████████| 90 kB 4.4 MB/s eta 0:00:011\n",
      "\u001b[?25hRequirement already satisfied: numpy>=1.19 in /Users/akshatchaturvedi/opt/anaconda3/lib/python3.9/site-packages (from lmfit) (1.21.5)\n",
      "Collecting uncertainties>=3.1.4\n",
      "  Downloading uncertainties-3.1.7-py2.py3-none-any.whl (98 kB)\n",
      "\u001b[K     |████████████████████████████████| 98 kB 19.2 MB/s eta 0:00:01\n",
      "\u001b[?25hRequirement already satisfied: scipy>=1.6 in /Users/akshatchaturvedi/opt/anaconda3/lib/python3.9/site-packages (from lmfit) (1.7.3)\n",
      "Collecting asteval>=0.9.28\n",
      "  Downloading asteval-0.9.29-py3-none-any.whl (18 kB)\n",
      "Requirement already satisfied: future in /Users/akshatchaturvedi/opt/anaconda3/lib/python3.9/site-packages (from uncertainties>=3.1.4->lmfit) (0.18.2)\n",
      "Installing collected packages: uncertainties, asteval, lmfit\n",
      "Successfully installed asteval-0.9.29 lmfit-1.1.0 uncertainties-3.1.7\n"
     ]
    }
   ],
   "source": [
    "!pip install lmfit"
   ]
  },
  {
   "cell_type": "code",
   "execution_count": 45,
   "id": "211aa72f",
   "metadata": {},
   "outputs": [
    {
     "name": "stdout",
     "output_type": "stream",
     "text": [
      "[3.03225791 2.23334839 1.06180414]\n"
     ]
    },
    {
     "data": {
      "image/png": "[encoded data removed]",
      "text/plain": [
       "<Figure size 432x288 with 1 Axes>"
      ]
     },
     "metadata": {
      "needs_background": "light"
     },
     "output_type": "display_data"
    }
   ],
   "source": [
    "import numpy as np\n",
    "import matplotlib.pyplot as plt\n",
    "from scipy.optimize import least_squares\n",
    "\n",
    "# Define the function to be optimized\n",
    "def model(params, x):\n",
    "    a, b, c = params\n",
    "    return a * np.exp(-b * x) + c\n",
    "\n",
    "# Define the residual function to be minimized\n",
    "def residuals(params, x, y):\n",
    "    return y - model(params, x)\n",
    "\n",
    "# Generate some sample data to fit\n",
    "xdata = np.linspace(0, 4, 50)\n",
    "ydata = 3.0 * np.exp(-2.0 * xdata) + 1.0 + 0.2 * np.random.normal(size=len(xdata))\n",
    "\n",
    "# Set up the initial guess for the parameters\n",
    "params0 = [1.0, 1.0, 1.0]\n",
    "\n",
    "# Run the optimization using the Levenberg-Marquardt algorithm\n",
    "result = least_squares(residuals, params0, args=(xdata, ydata), method='lm')\n",
    "\n",
    "# Print the results\n",
    "print(result.x)\n",
    "\n",
    "# Plot the data and the fitted function\n",
    "plt.plot(xdata, ydata, 'bo')\n",
    "plt.plot(xdata, model(result.x, xdata), 'r-')\n",
    "plt.show()\n"
   ]
  },
  {
   "cell_type": "code",
   "execution_count": 47,
   "id": "92cb8bf9",
   "metadata": {},
   "outputs": [
    {
     "ename": "ValueError",
     "evalue": "operands could not be broadcast together with shapes (2,) (3,) ",
     "output_type": "error",
     "traceback": [
      "\u001b[0;31m---------------------------------------------------------------------------\u001b[0m",
      "\u001b[0;31mValueError\u001b[0m                                Traceback (most recent call last)",
      "Input \u001b[0;32mIn [47]\u001b[0m, in \u001b[0;36m<cell line: 28>\u001b[0;34m()\u001b[0m\n\u001b[1;32m     36\u001b[0m hessian \u001b[38;5;241m=\u001b[39m jacobian\u001b[38;5;241m.\u001b[39mT \u001b[38;5;241m@\u001b[39m jacobian \u001b[38;5;241m+\u001b[39m lamda \u001b[38;5;241m*\u001b[39m np\u001b[38;5;241m.\u001b[39mdiag(jacobian\u001b[38;5;241m.\u001b[39mT \u001b[38;5;241m@\u001b[39m jacobian)\n\u001b[1;32m     37\u001b[0m delta \u001b[38;5;241m=\u001b[39m np\u001b[38;5;241m.\u001b[39mlinalg\u001b[38;5;241m.\u001b[39msolve(hessian, grad)\n\u001b[0;32m---> 38\u001b[0m new_params \u001b[38;5;241m=\u001b[39m \u001b[43mparams\u001b[49m\u001b[43m \u001b[49m\u001b[38;5;241;43m+\u001b[39;49m\u001b[43m \u001b[49m\u001b[43mdelta\u001b[49m\n\u001b[1;32m     39\u001b[0m new_residuals \u001b[38;5;241m=\u001b[39m residuals(new_params, xdata, ydata)\n\u001b[1;32m     40\u001b[0m new_cost \u001b[38;5;241m=\u001b[39m np\u001b[38;5;241m.\u001b[39msum(new_residuals \u001b[38;5;241m*\u001b[39m\u001b[38;5;241m*\u001b[39m \u001b[38;5;241m2\u001b[39m)\n",
      "\u001b[0;31mValueError\u001b[0m: operands could not be broadcast together with shapes (2,) (3,) "
     ]
    }
   ],
   "source": [
    "import numpy as np\n",
    "import matplotlib.pyplot as plt\n",
    "\n",
    "# Define the function to be optimized\n",
    "def model(params, x):\n",
    "    alpha_L, nu0= params\n",
    "    y = (1./np.pi)*(alpha_L/((x - nu0)**2. + alpha_L**2.))\n",
    "    return y\n",
    "\n",
    "# Define the residual function to be minimized\n",
    "def residuals(params, x, y):\n",
    "    return y - model(params, x)\n",
    "\n",
    "# Generate some sample data to fit\n",
    "xdata = dat[0]\n",
    "ydata = dat[1]\n",
    "\n",
    "# Set up the initial guess for the parameters\n",
    "params0 = [7.55, 46.27]\n",
    "\n",
    "# Set up the Levenberg-Marquardt algorithm parameters\n",
    "lamda = 0.001\n",
    "max_iter = 100\n",
    "tolerance = 1e-6\n",
    "\n",
    "# Run the optimization using the Levenberg-Marquardt algorithm\n",
    "params = params0\n",
    "for i in range(max_iter):\n",
    "    jacobian = np.array([\n",
    "        np.exp(-params[1] * xdata),\n",
    "        -params[0] * xdata * np.exp(-params[1] * xdata),\n",
    "        np.ones(len(xdata))\n",
    "    ]).T\n",
    "    residuals_vector = residuals(params, xdata, ydata)\n",
    "    grad = jacobian.T @ residuals_vector\n",
    "    hessian = jacobian.T @ jacobian + lamda * np.diag(jacobian.T @ jacobian)\n",
    "    delta = np.linalg.solve(hessian, grad)\n",
    "    new_params = params + delta\n",
    "    new_residuals = residuals(new_params, xdata, ydata)\n",
    "    new_cost = np.sum(new_residuals ** 2)\n",
    "    old_cost = np.sum(residuals_vector ** 2)\n",
    "    if new_cost < old_cost:\n",
    "        lamda /= 10\n",
    "        params = new_params\n",
    "        if np.abs(new_cost - old_cost) < tolerance:\n",
    "            break\n",
    "    else:\n",
    "        lamda *= 10\n",
    "\n",
    "# Print the results\n",
    "print(params)\n",
    "\n",
    "# Plot the data and the fitted function\n",
    "plt.plot(xdata, ydata, 'bo')\n",
    "plt.plot(xdata, model(params, xdata), 'r-')\n",
    "plt.show()\n"
   ]
  },
  {
   "cell_type": "code",
   "execution_count": 5,
   "id": "663142b5",
   "metadata": {},
   "outputs": [
    {
     "ename": "LinAlgError",
     "evalue": "Singular matrix",
     "output_type": "error",
     "traceback": [
      "\u001b[0;31m---------------------------------------------------------------------------\u001b[0m",
      "\u001b[0;31mLinAlgError\u001b[0m                               Traceback (most recent call last)",
      "Input \u001b[0;32mIn [5]\u001b[0m, in \u001b[0;36m<cell line: 28>\u001b[0;34m()\u001b[0m\n\u001b[1;32m     34\u001b[0m grad \u001b[38;5;241m=\u001b[39m jacobian\u001b[38;5;241m.\u001b[39mT \u001b[38;5;241m@\u001b[39m residuals_vector\n\u001b[1;32m     35\u001b[0m hessian \u001b[38;5;241m=\u001b[39m jacobian\u001b[38;5;241m.\u001b[39mT \u001b[38;5;241m@\u001b[39m jacobian \u001b[38;5;241m+\u001b[39m lamda \u001b[38;5;241m*\u001b[39m np\u001b[38;5;241m.\u001b[39mdiag(jacobian\u001b[38;5;241m.\u001b[39mT \u001b[38;5;241m@\u001b[39m jacobian)\n\u001b[0;32m---> 36\u001b[0m delta \u001b[38;5;241m=\u001b[39m \u001b[43mnp\u001b[49m\u001b[38;5;241;43m.\u001b[39;49m\u001b[43mlinalg\u001b[49m\u001b[38;5;241;43m.\u001b[39;49m\u001b[43msolve\u001b[49m\u001b[43m(\u001b[49m\u001b[43mhessian\u001b[49m\u001b[43m,\u001b[49m\u001b[43m \u001b[49m\u001b[43mgrad\u001b[49m\u001b[43m)\u001b[49m\n\u001b[1;32m     37\u001b[0m new_params \u001b[38;5;241m=\u001b[39m params \u001b[38;5;241m+\u001b[39m delta\n\u001b[1;32m     38\u001b[0m new_residuals \u001b[38;5;241m=\u001b[39m residuals(new_params, xdata, ydata)\n",
      "File \u001b[0;32m<__array_function__ internals>:5\u001b[0m, in \u001b[0;36msolve\u001b[0;34m(*args, **kwargs)\u001b[0m\n",
      "File \u001b[0;32m~/opt/anaconda3/lib/python3.9/site-packages/numpy/linalg/linalg.py:393\u001b[0m, in \u001b[0;36msolve\u001b[0;34m(a, b)\u001b[0m\n\u001b[1;32m    391\u001b[0m signature \u001b[38;5;241m=\u001b[39m \u001b[38;5;124m'\u001b[39m\u001b[38;5;124mDD->D\u001b[39m\u001b[38;5;124m'\u001b[39m \u001b[38;5;28;01mif\u001b[39;00m isComplexType(t) \u001b[38;5;28;01melse\u001b[39;00m \u001b[38;5;124m'\u001b[39m\u001b[38;5;124mdd->d\u001b[39m\u001b[38;5;124m'\u001b[39m\n\u001b[1;32m    392\u001b[0m extobj \u001b[38;5;241m=\u001b[39m get_linalg_error_extobj(_raise_linalgerror_singular)\n\u001b[0;32m--> 393\u001b[0m r \u001b[38;5;241m=\u001b[39m \u001b[43mgufunc\u001b[49m\u001b[43m(\u001b[49m\u001b[43ma\u001b[49m\u001b[43m,\u001b[49m\u001b[43m \u001b[49m\u001b[43mb\u001b[49m\u001b[43m,\u001b[49m\u001b[43m \u001b[49m\u001b[43msignature\u001b[49m\u001b[38;5;241;43m=\u001b[39;49m\u001b[43msignature\u001b[49m\u001b[43m,\u001b[49m\u001b[43m \u001b[49m\u001b[43mextobj\u001b[49m\u001b[38;5;241;43m=\u001b[39;49m\u001b[43mextobj\u001b[49m\u001b[43m)\u001b[49m\n\u001b[1;32m    395\u001b[0m \u001b[38;5;28;01mreturn\u001b[39;00m wrap(r\u001b[38;5;241m.\u001b[39mastype(result_t, copy\u001b[38;5;241m=\u001b[39m\u001b[38;5;28;01mFalse\u001b[39;00m))\n",
      "File \u001b[0;32m~/opt/anaconda3/lib/python3.9/site-packages/numpy/linalg/linalg.py:88\u001b[0m, in \u001b[0;36m_raise_linalgerror_singular\u001b[0;34m(err, flag)\u001b[0m\n\u001b[1;32m     87\u001b[0m \u001b[38;5;28;01mdef\u001b[39;00m \u001b[38;5;21m_raise_linalgerror_singular\u001b[39m(err, flag):\n\u001b[0;32m---> 88\u001b[0m     \u001b[38;5;28;01mraise\u001b[39;00m LinAlgError(\u001b[38;5;124m\"\u001b[39m\u001b[38;5;124mSingular matrix\u001b[39m\u001b[38;5;124m\"\u001b[39m)\n",
      "\u001b[0;31mLinAlgError\u001b[0m: Singular matrix"
     ]
    }
   ],
   "source": [
    "import numpy as np\n",
    "import matplotlib.pyplot as plt\n",
    "\n",
    "# Define the function to be optimized\n",
    "def model(params, x):\n",
    "    alpha_L, nu0= params\n",
    "    y = (1./np.pi)*(alpha_L/((x - nu0)**2. + alpha_L**2.))\n",
    "    return y\n",
    "\n",
    "# Define the residual function to be minimized\n",
    "def residuals(params, x, y):\n",
    "    return y - model(params, x)\n",
    "\n",
    "# Generate some sample data to fit\n",
    "xdata = dat[0]\n",
    "ydata = dat[1]\n",
    "\n",
    "# Set up the initial guess for the parameters\n",
    "params0 = [7.55, 46.27]\n",
    "\n",
    "# Set up the Levenberg-Marquardt algorithm parameters\n",
    "lamda = 0.001\n",
    "max_iter = 100\n",
    "tolerance = 1e-6\n",
    "\n",
    "# Run the optimization using the Levenberg-Marquardt algorithm\n",
    "params = params0\n",
    "for i in range(max_iter):\n",
    "    jacobian = np.array([\n",
    "        np.exp(-params[1] * xdata),\n",
    "        -params[0] * xdata * np.exp(-params[1] * xdata)\n",
    "    ]).T\n",
    "    residuals_vector = residuals(params, xdata, ydata)\n",
    "    grad = jacobian.T @ residuals_vector\n",
    "    hessian = jacobian.T @ jacobian + lamda * np.diag(jacobian.T @ jacobian)\n",
    "    delta = np.linalg.solve(hessian, grad)\n",
    "    new_params = params + delta\n",
    "    new_residuals = residuals(new_params, xdata, ydata)\n",
    "    new_cost = np.sum(new_residuals ** 2)\n",
    "    old_cost = np.sum(residuals_vector ** 2)\n",
    "    if new_cost < old_cost:\n",
    "        lamda /= 10\n",
    "        params = new_params\n",
    "        if np.abs(new_cost - old_cost) < tolerance:\n",
    "            break\n",
    "    else:\n",
    "        lamda *= 10\n",
    "\n",
    "# Print the results\n",
    "print(params)\n",
    "\n",
    "# Plot the data and the fitted function\n",
    "plt.plot(xdata, ydata, 'bo')\n",
    "plt.plot(xdata, model(params, xdata), 'r-')\n",
    "plt.show()\n"
   ]
  },
  {
   "cell_type": "code",
   "execution_count": 42,
   "id": "36640f33",
   "metadata": {},
   "outputs": [],
   "source": [
    "func = (1 / x) * sp.sqrt((sp.ln(2) / sp.pi)) * sp.exp((-sp.ln(2) * (y - z) ** 2) / x ** 2)"
   ]
  },
  {
   "cell_type": "code",
   "execution_count": 43,
   "id": "7795151d",
   "metadata": {},
   "outputs": [
    {
     "data": {
      "text/latex": [
       "$\\displaystyle - \\frac{e^{- \\frac{\\left(y - z\\right)^{2} \\log{\\left(2 \\right)}}{x^{2}}} \\sqrt{\\log{\\left(2 \\right)}}}{\\sqrt{\\pi} x^{2}} + \\frac{2 \\left(y - z\\right)^{2} e^{- \\frac{\\left(y - z\\right)^{2} \\log{\\left(2 \\right)}}{x^{2}}} \\log{\\left(2 \\right)}^{\\frac{3}{2}}}{\\sqrt{\\pi} x^{4}}$"
      ],
      "text/plain": [
       "-exp(-(y - z)**2*log(2)/x**2)*sqrt(log(2))/(sqrt(pi)*x**2) + 2*(y - z)**2*exp(-(y - z)**2*log(2)/x**2)*log(2)**(3/2)/(sqrt(pi)*x**4)"
      ]
     },
     "execution_count": 43,
     "metadata": {},
     "output_type": "execute_result"
    }
   ],
   "source": [
    "diff(func,x)"
   ]
  },
  {
   "cell_type": "code",
   "execution_count": 44,
   "id": "3d02bc02",
   "metadata": {},
   "outputs": [],
   "source": [
    "lor = (1 / sp.pi) * (x) / ((y - z) ** 2 + (x) ** 2)\n",
    "a = diff(lor, z)"
   ]
  },
  {
   "cell_type": "code",
   "execution_count": 45,
   "id": "9242c069",
   "metadata": {},
   "outputs": [
    {
     "data": {
      "text/latex": [
       "$\\displaystyle \\frac{x \\left(2 y - 2 z\\right)}{\\pi \\left(x^{2} + \\left(y - z\\right)^{2}\\right)^{2}}$"
      ],
      "text/plain": [
       "x*(2*y - 2*z)/(pi*(x**2 + (y - z)**2)**2)"
      ]
     },
     "execution_count": 45,
     "metadata": {},
     "output_type": "execute_result"
    }
   ],
   "source": [
    "a"
   ]
  },
  {
   "cell_type": "code",
   "execution_count": 46,
   "id": "01d5c329",
   "metadata": {},
   "outputs": [],
   "source": [
    "import scipy.linalg as lin"
   ]
  },
  {
   "cell_type": "code",
   "execution_count": 48,
   "id": "7d5d2c56",
   "metadata": {},
   "outputs": [
    {
     "data": {
      "text/plain": [
       "array([ 4.33333333, -0.66666667])"
      ]
     },
     "execution_count": 48,
     "metadata": {},
     "output_type": "execute_result"
    }
   ],
   "source": [
    "a = np.array([[1,2],[2,7]])\n",
    "b = np.array([3,4])\n",
    "\n",
    "lin.solve(a,b)"
   ]
  },
  {
   "cell_type": "code",
   "execution_count": null,
   "id": "db8ebf3e",
   "metadata": {},
   "outputs": [],
   "source": []
  }
 ],
 "metadata": {
  "kernelspec": {
   "display_name": "Python 3 (ipykernel)",
   "language": "python",
   "name": "python3"
  },
  "language_info": {
   "codemirror_mode": {
    "name": "ipython",
    "version": 3
   },
   "file_extension": ".py",
   "mimetype": "text/x-python",
   "name": "python",
   "nbconvert_exporter": "python",
   "pygments_lexer": "ipython3",
   "version": "3.9.12"
  }
 },
 "nbformat": 4,
 "nbformat_minor": 5
}
